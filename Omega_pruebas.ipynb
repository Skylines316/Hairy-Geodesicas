{
 "cells": [
  {
   "cell_type": "code",
   "execution_count": 9,
   "id": "satisfied-commander",
   "metadata": {},
   "outputs": [
    {
     "data": {
      "text/plain": [
       "array([4.9762293e-05])"
      ]
     },
     "execution_count": 9,
     "metadata": {},
     "output_type": "execute_result"
    }
   ],
   "source": [
    "import black_hole as bh\n",
    "#bh.black_hole(-40, 3.252719443, 1.76).omega(1.22)\n",
    "bh.black_hole(1, 12.52655373, 1.52).horizonte_hairy_x()"
   ]
  },
  {
   "cell_type": "code",
   "execution_count": 11,
   "id": "loaded-tourist",
   "metadata": {},
   "outputs": [
    {
     "data": {
      "text/plain": [
       "array([0.])"
      ]
     },
     "execution_count": 11,
     "metadata": {},
     "output_type": "execute_result"
    }
   ],
   "source": [
    "bh.black_hole(1, 12.52655373, 1.52).f()"
   ]
  },
  {
   "cell_type": "code",
   "execution_count": null,
   "id": "electric-endorsement",
   "metadata": {},
   "outputs": [],
   "source": []
  }
 ],
 "metadata": {
  "kernelspec": {
   "display_name": "Python 3",
   "language": "python",
   "name": "python3"
  },
  "language_info": {
   "codemirror_mode": {
    "name": "ipython",
    "version": 3
   },
   "file_extension": ".py",
   "mimetype": "text/x-python",
   "name": "python",
   "nbconvert_exporter": "python",
   "pygments_lexer": "ipython3",
   "version": "3.9.1"
  }
 },
 "nbformat": 4,
 "nbformat_minor": 5
}
