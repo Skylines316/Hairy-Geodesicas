{
 "cells": [
  {
   "cell_type": "code",
   "execution_count": 18,
   "id": "adaptive-macintosh",
   "metadata": {},
   "outputs": [
    {
     "data": {
      "text/plain": [
       "49762293004155859812402262889725429841059972796071527545327695575483183672988453569985472282755072"
      ]
     },
     "execution_count": 18,
     "metadata": {},
     "output_type": "execute_result"
    }
   ],
   "source": [
    "import black_hole as bh\n",
    "#bh.black_hole(-40, 3.252719443, 1.76).omega(1.22)\n",
    "h=bh.black_hole(1, 12.52655373, 1.52).horizonte_hairy_x()*10**102\n",
    "int(h)"
   ]
  },
  {
   "cell_type": "code",
   "execution_count": 3,
   "id": "authorized-swedish",
   "metadata": {},
   "outputs": [
    {
     "data": {
      "text/plain": [
       "-6.906086813529555e-11"
      ]
     },
     "execution_count": 3,
     "metadata": {},
     "output_type": "execute_result"
    }
   ],
   "source": [
    "bh.black_hole(1, 12.52655373, 1.52).f(0.00004976229299205893)"
   ]
  },
  {
   "cell_type": "code",
   "execution_count": 17,
   "id": "fixed-relative",
   "metadata": {},
   "outputs": [
    {
     "data": {
      "text/plain": [
       "0.0"
      ]
     },
     "execution_count": 17,
     "metadata": {},
     "output_type": "execute_result"
    }
   ],
   "source": [
    "bh.black_hole(1, 12.52655373, 1.52).f(497622930041558600495444616477489980685333500938643628288246241707150588257975856181915617853440e-100)"
   ]
  },
  {
   "cell_type": "code",
   "execution_count": null,
   "id": "processed-straight",
   "metadata": {},
   "outputs": [],
   "source": []
  }
 ],
 "metadata": {
  "kernelspec": {
   "display_name": "Python 3",
   "language": "python",
   "name": "python3"
  },
  "language_info": {
   "codemirror_mode": {
    "name": "ipython",
    "version": 3
   },
   "file_extension": ".py",
   "mimetype": "text/x-python",
   "name": "python",
   "nbconvert_exporter": "python",
   "pygments_lexer": "ipython3",
   "version": "3.9.1"
  }
 },
 "nbformat": 4,
 "nbformat_minor": 5
}
